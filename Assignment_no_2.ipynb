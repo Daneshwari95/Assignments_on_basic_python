{
  "metadata": {
    "language_info": {
      "codemirror_mode": {
        "name": "python",
        "version": 3
      },
      "file_extension": ".py",
      "mimetype": "text/x-python",
      "name": "python",
      "nbconvert_exporter": "python",
      "pygments_lexer": "ipython3",
      "version": "3.8"
    },
    "kernelspec": {
      "name": "python",
      "display_name": "Pyolite",
      "language": "python"
    }
  },
  "nbformat_minor": 4,
  "nbformat": 4,
  "cells": [
    {
      "cell_type": "raw",
      "source": "1q. What are the two values of the Boolean data type? How do you write them?",
      "metadata": {}
    },
    {
      "cell_type": "code",
      "source": "1s. True\n    False\n\nUsage of Boolean values as below:",
      "metadata": {},
      "execution_count": null,
      "outputs": []
    },
    {
      "cell_type": "markdown",
      "source": "1) bool() method",
      "metadata": {}
    },
    {
      "cell_type": "code",
      "source": "x = 2\ny = 5\nprint(bool(x==y))",
      "metadata": {
        "trusted": true
      },
      "execution_count": 16,
      "outputs": [
        {
          "name": "stdout",
          "text": "False\n",
          "output_type": "stream"
        }
      ]
    },
    {
      "cell_type": "markdown",
      "source": "2) Boolean value from the expression",
      "metadata": {}
    },
    {
      "cell_type": "code",
      "source": "a = 10\nb = 10\nprint(a==b)",
      "metadata": {
        "trusted": true
      },
      "execution_count": 15,
      "outputs": [
        {
          "name": "stdout",
          "text": "True\n",
          "output_type": "stream"
        }
      ]
    },
    {
      "cell_type": "markdown",
      "source": "3) Integers and Floats as Booleans",
      "metadata": {}
    },
    {
      "cell_type": "raw",
      "source": "Integers and Floats as Booleans : Any integer, floating-point number, or complex number having zero as a value is considered as False, while if they are\nhaving value as any positive or negative number then it is considered as True.",
      "metadata": {}
    },
    {
      "cell_type": "code",
      "source": "a = 0\nprint(bool(a))",
      "metadata": {
        "trusted": true
      },
      "execution_count": 12,
      "outputs": [
        {
          "name": "stdout",
          "text": "False\n",
          "output_type": "stream"
        }
      ]
    },
    {
      "cell_type": "code",
      "source": "b = 5\nprint(bool(b))",
      "metadata": {
        "trusted": true
      },
      "execution_count": 13,
      "outputs": [
        {
          "name": "stdout",
          "text": "True\n",
          "output_type": "stream"
        }
      ]
    },
    {
      "cell_type": "code",
      "source": "c = -3.6\nprint(bool(c))",
      "metadata": {
        "trusted": true
      },
      "execution_count": 14,
      "outputs": [
        {
          "name": "stdout",
          "text": "True\n",
          "output_type": "stream"
        }
      ]
    },
    {
      "cell_type": "code",
      "source": "4) Boolean Operators",
      "metadata": {},
      "execution_count": null,
      "outputs": []
    },
    {
      "cell_type": "markdown",
      "source": "* OR\n* AND\n* NOT\n* ==\n* !=\n\nAll the above Boolean operators return True or False as output",
      "metadata": {}
    },
    {
      "cell_type": "code",
      "source": "a = 5\nb = 10\nc = 8\nif a > b or b > c:\n    print(True)\nelse:\n    print(False)\nif a < b and b > c:\n    print(True)\nelse:\n    print(False)",
      "metadata": {
        "trusted": true
      },
      "execution_count": 7,
      "outputs": [
        {
          "name": "stdout",
          "text": "True\nTrue\n",
          "output_type": "stream"
        }
      ]
    },
    {
      "cell_type": "code",
      "source": "a = 0\nif not a:\n    print(False)\nelse:\n    print(True)",
      "metadata": {
        "trusted": true
      },
      "execution_count": 8,
      "outputs": [
        {
          "name": "stdout",
          "text": "False\n",
          "output_type": "stream"
        }
      ]
    },
    {
      "cell_type": "code",
      "source": "a = 0\nb = 1\nif a == 0:\n    print(True)\nelse:\n    print(False)\nif a != b:\n    print(True)\nelse:\n    print(False)",
      "metadata": {
        "trusted": true
      },
      "execution_count": 9,
      "outputs": [
        {
          "name": "stdout",
          "text": "True\nTrue\n",
          "output_type": "stream"
        }
      ]
    },
    {
      "cell_type": "markdown",
      "source": "5) is, in and not in keywords: These two keywords return Boolean values",
      "metadata": {}
    },
    {
      "cell_type": "code",
      "source": "a = 10\nb = 15\nprint(a is b)\nx = 15\ny = 15\nprint(x is y)",
      "metadata": {
        "trusted": true
      },
      "execution_count": 10,
      "outputs": [
        {
          "name": "stdout",
          "text": "False\nTrue\n",
          "output_type": "stream"
        }
      ]
    },
    {
      "cell_type": "code",
      "source": "a = [12, 35, 75, 101, 108, \"network\", \"data science\"]\nprint(12 in a) \nprint(35 not in a)",
      "metadata": {
        "trusted": true
      },
      "execution_count": 11,
      "outputs": [
        {
          "name": "stdout",
          "text": "True\nFalse\n",
          "output_type": "stream"
        }
      ]
    },
    {
      "cell_type": "raw",
      "source": "2q. What are the three different types of Boolean operators?",
      "metadata": {}
    },
    {
      "cell_type": "code",
      "source": "2s. Answered in first question",
      "metadata": {},
      "execution_count": null,
      "outputs": []
    },
    {
      "cell_type": "raw",
      "source": "3q. Make a list of each Boolean operator's truth tables (i.e. every possible combination of Boolean\nvalues for the operator and what it evaluate ).",
      "metadata": {}
    },
    {
      "cell_type": "raw",
      "source": "3s.   A            B           A or B\n      True       True           True\n      True       False          True\n      False      True           True\n      False      False          False",
      "metadata": {}
    },
    {
      "cell_type": "code",
      "source": "A           B           A and B\nTrue      True           True\nTrue      False          False\nFalse     True           False\nFalse     False          False",
      "metadata": {},
      "execution_count": null,
      "outputs": []
    },
    {
      "cell_type": "code",
      "source": "A         not A\nTrue      False\nFalse     True",
      "metadata": {},
      "execution_count": null,
      "outputs": []
    },
    {
      "cell_type": "raw",
      "source": "4q. What are the values of the following expressions?\n(5 > 4) and (3 == 5)\nnot (5 > 4)\n(5 > 4) or (3 == 5)\nnot ((5 > 4) or (3 == 5))\n(True and True) and (True == False)\n(not False) or (not True)",
      "metadata": {}
    },
    {
      "cell_type": "code",
      "source": "4s.  i)  (5 > 4) and (3 == 5)\n         True and False\n         False",
      "metadata": {},
      "execution_count": null,
      "outputs": []
    },
    {
      "cell_type": "code",
      "source": "ii)  not (5 > 4)\n     not True\n     False",
      "metadata": {},
      "execution_count": null,
      "outputs": []
    },
    {
      "cell_type": "code",
      "source": "iii)  (5 > 4) or (3 == 5)\n      True  or  False\n      True",
      "metadata": {},
      "execution_count": null,
      "outputs": []
    },
    {
      "cell_type": "code",
      "source": "iv)  not ((5 > 4) or (3 == 5))\n     not (True or False)\n     not True\n     False",
      "metadata": {},
      "execution_count": null,
      "outputs": []
    },
    {
      "cell_type": "code",
      "source": "v)  (True and True) and (True == False)\n    True and False\n    False",
      "metadata": {},
      "execution_count": null,
      "outputs": []
    },
    {
      "cell_type": "code",
      "source": "vi)  (not False) or (not True)\n     True or False\n     True",
      "metadata": {},
      "execution_count": null,
      "outputs": []
    },
    {
      "cell_type": "raw",
      "source": "5q. What are the six comparison operators?",
      "metadata": {}
    },
    {
      "cell_type": "code",
      "source": "5s.  >    Greater than\n     <    Lesser than\n     >=   Greater than or equal to\n     <=   Lesser than or equal to\n     ==   Equal to\n     !=   Not equal to",
      "metadata": {},
      "execution_count": null,
      "outputs": []
    },
    {
      "cell_type": "raw",
      "source": "6q. How do you tell the difference between the equal to and assignment operators? Describe a\ncondition and when you would use one.",
      "metadata": {}
    },
    {
      "cell_type": "code",
      "source": "6s.  Equal to( == ) operator returns True x is same as y. Here, comparison takes place.\n     Assignment operator( = ) is used to assign a value to x and y ",
      "metadata": {},
      "execution_count": null,
      "outputs": []
    },
    {
      "cell_type": "code",
      "source": "x = \"data science\"\ny = \"data science\"\nif x == y:\n    print(True)\nelse:\n    print(False)",
      "metadata": {
        "trusted": true
      },
      "execution_count": 6,
      "outputs": [
        {
          "name": "stdout",
          "text": "True\n",
          "output_type": "stream"
        }
      ]
    },
    {
      "cell_type": "raw",
      "source": "7q. Identify the three blocks in this code:\nspam = 0\nif spam == 10:\nprint('eggs')\nif spam > 5:\nprint('bacon')\nelse:\nprint('ham';)\nprint('spam')\nprint('spam')",
      "metadata": {}
    },
    {
      "cell_type": "code",
      "source": "7s. ",
      "metadata": {},
      "execution_count": null,
      "outputs": []
    },
    {
      "cell_type": "code",
      "source": "spam = 6\nif spam == 10:\n    print('eggs')\nif spam > 5:\n    print('bacon')\nelse:\n    print('ham')\nprint('spam')\nprint('spam')",
      "metadata": {
        "trusted": true
      },
      "execution_count": 4,
      "outputs": [
        {
          "name": "stdout",
          "text": "bacon\nspam\nspam\n",
          "output_type": "stream"
        }
      ]
    },
    {
      "cell_type": "raw",
      "source": "8q. Write code that prints Hello if 1 is stored in spam, prints Howdy if 2 is stored in spam, and prints\nGreetings! if anything else is stored in spam.",
      "metadata": {}
    },
    {
      "cell_type": "code",
      "source": "8s. ",
      "metadata": {},
      "execution_count": null,
      "outputs": []
    },
    {
      "cell_type": "code",
      "source": "spam = 1\nif spam == 1:\n    print(\"Hello\")\nelif spam == 2:\n    print(\"Howdy\")\nelse:\n    print(\"Greetings!\")",
      "metadata": {
        "trusted": true
      },
      "execution_count": 1,
      "outputs": [
        {
          "name": "stdout",
          "text": "Hello\n",
          "output_type": "stream"
        }
      ]
    },
    {
      "cell_type": "code",
      "source": "spam = 2\nif spam == 1:\n    print(\"Hello\")\nelif spam == 2:\n    print(\"Howdy\")\nelse:\n    print(\"Greetings!\")",
      "metadata": {
        "trusted": true
      },
      "execution_count": 3,
      "outputs": [
        {
          "name": "stdout",
          "text": "Howdy\n",
          "output_type": "stream"
        }
      ]
    },
    {
      "cell_type": "code",
      "source": "spam = 9\nif spam == 1:\n    print(\"Hello\")\nelif spam == 2:\n    print(\"Howdy\")\nelse:\n    print(\"Greetings!\")",
      "metadata": {
        "trusted": true
      },
      "execution_count": 2,
      "outputs": [
        {
          "name": "stdout",
          "text": "Greetings!\n",
          "output_type": "stream"
        }
      ]
    }
  ]
}