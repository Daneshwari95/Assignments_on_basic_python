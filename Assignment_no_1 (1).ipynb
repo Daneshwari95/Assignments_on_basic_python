{
  "metadata": {
    "language_info": {
      "codemirror_mode": {
        "name": "python",
        "version": 3
      },
      "file_extension": ".py",
      "mimetype": "text/x-python",
      "name": "python",
      "nbconvert_exporter": "python",
      "pygments_lexer": "ipython3",
      "version": "3.8"
    },
    "kernelspec": {
      "name": "python",
      "display_name": "Pyolite",
      "language": "python"
    }
  },
  "nbformat_minor": 4,
  "nbformat": 4,
  "cells": [
    {
      "cell_type": "markdown",
      "source": "1q. In the below elements which of them are values or an expression? eg values can be integer or string and expressions will be mathematical operators.\n*\n'hello'\n-87.8\n-\n/\n+\n6",
      "metadata": {}
    },
    {
      "cell_type": "code",
      "source": "1s. Values --> 'hello' , -87.8 , 6\n    Expression--> * , - , / , +",
      "metadata": {},
      "execution_count": null,
      "outputs": []
    },
    {
      "cell_type": "code",
      "source": "2q. What is the difference between string and variable?",
      "metadata": {},
      "execution_count": null,
      "outputs": []
    },
    {
      "cell_type": "code",
      "source": "2s. A string is a data type used in programmingn, which is used to represent text rather than numbers. It is comprised of a set of characters that can also contain spaces, symbols and numbers.\n    A variable is used to store the data that can be integer, floating point numbers, string or boolean values. \n    For example. \n    a = 20\n    b = \"hello\"\n    c = True\n    ",
      "metadata": {},
      "execution_count": null,
      "outputs": []
    },
    {
      "cell_type": "markdown",
      "source": "3q. Describe three different datatypes.",
      "metadata": {}
    },
    {
      "cell_type": "code",
      "source": "3s. The three types of data types are\n    * Fundamental data types − These are the predefined data types which are used by the programmer directly to store only one value as per requirement, i.e., integer type, character type, or floating type. For example − int, char, float, etc.\n    * Derived data types − These data types are derived using built-in data type which are designed by the programmer to store multiple values of same type as per their requirement. For example − Array, Pointer, function, list, etc.\n    * User-defined data types − These data types are derived using built-in data types which are wrapped into a single a data type to store multiple values of either same type or different type or both as per the requirement. For example − Class, Structure, etc.",
      "metadata": {},
      "execution_count": null,
      "outputs": []
    },
    {
      "cell_type": "code",
      "source": "4q. What is an expression made up of? What do all expressions do?",
      "metadata": {},
      "execution_count": null,
      "outputs": []
    },
    {
      "cell_type": "markdown",
      "source": "4s. An expression is a combination of operators and operands that is interpreted to produce some other value. In any programming language, an expression is evaluated as per the precedence of its operators. So that if there is more than one operator in an expression, their precedence decides which operation will be performed first. \n    \n   There are different types of expression:\n   1. Constant Expressions: These are the expressions that have constant values only.\n   2. Arithmetic Expressions: An arithmetic expressionis a combination of numeric values, operators, and sometimes parenthesis. \n   3. Integral Expressions: These are the kind of expressions that produce only integer results after all computations and type conversions.\n   4. Floating Expressions: These are the kind of expressions which produce floating point numbers as result after all computations and type conversions.\n   5. Relational Expressions: In these types of expressions, arithmetic expressions are written on both sides of relational operator (> , < , >= , <=).\n   6. Logical Expressions: These are kinds of expressions that result in either True or False.",
      "metadata": {}
    },
    {
      "cell_type": "code",
      "source": "5q. This assignment statements like spam = 10. What is the difference between expression and statement?",
      "metadata": {},
      "execution_count": null,
      "outputs": []
    },
    {
      "cell_type": "code",
      "source": "5s. An “expression” is a combination of values and functions that are combined and interpreted by the compiler to create a new value\n    A “statement” is just a standalone unit of execution and doesn't return anything.",
      "metadata": {},
      "execution_count": null,
      "outputs": []
    },
    {
      "cell_type": "code",
      "source": "6q. After running the following code, what does \n    the variable bacon contain\n    bacon = 22\n    bacon +1",
      "metadata": {},
      "execution_count": null,
      "outputs": []
    },
    {
      "cell_type": "code",
      "source": "6s. The variable bacon contains the value 22 in the first line code. But, in the the second line line of code even though 1 is added but it is not assigned as new valuefor bacon, the value of bacon remains 22 ",
      "metadata": {},
      "execution_count": null,
      "outputs": []
    },
    {
      "cell_type": "code",
      "source": "7q. What should the values of the following two terms be\n    'spam' + 'spamspam'\n    'spam' * 3",
      "metadata": {
        "trusted": true
      },
      "execution_count": null,
      "outputs": []
    },
    {
      "cell_type": "code",
      "source": "7s. The value of both 1st and 2nd line of codes is same\n    spamspamspam",
      "metadata": {
        "trusted": true
      },
      "execution_count": null,
      "outputs": []
    },
    {
      "cell_type": "code",
      "source": "8q. Why is eggs a valid variable name while 100 is invalid",
      "metadata": {
        "trusted": true
      },
      "execution_count": null,
      "outputs": []
    },
    {
      "cell_type": "code",
      "source": "8s. There are some rules for variable naming.\n    *A variable name must start with a letter or the underscore character\n    *A variable name cannot start with a number\n    *A variable name can only contain alpha-numeric characters and underscores (A-z, 0-9, and _ )\n    *Variable names are case-sensitive (age, Age, AGE are different variables)\n    \n    So, variable eggs is valid but variable 100 is invalid ",
      "metadata": {},
      "execution_count": null,
      "outputs": []
    },
    {
      "cell_type": "code",
      "source": "9q. What three functions can be used to get integer, floating point number, or string version of a value?",
      "metadata": {},
      "execution_count": null,
      "outputs": []
    },
    {
      "cell_type": "code",
      "source": "9s. x = 12\n    Here the value 12 is of integer datatype. \n    We can convert datatype of 12 into string:\n        x = str(12)\n    We can convert datatype of 12 into float:\n        x = float(12)\n    We can convert datatype of 12 into integer:\n        x = int(12)",
      "metadata": {},
      "execution_count": null,
      "outputs": []
    },
    {
      "cell_type": "code",
      "source": "10q. Why does this expression cause an error? How can you fix it?\n     'I have eaten' + 99 + 'burritos'",
      "metadata": {
        "trusted": true
      },
      "execution_count": null,
      "outputs": []
    },
    {
      "cell_type": "code",
      "source": "10s. Here we get typeerror. Because, the string type cannot be be concatenated with integer type.\n     So, we can fix it by converting integer type to string type and then concatenate ",
      "metadata": {
        "trusted": true
      },
      "execution_count": null,
      "outputs": []
    },
    {
      "cell_type": "code",
      "source": "'I have eaten ' + '99' + ' burritos'\n'I have eaten ' + str(99) + ' burritos'",
      "metadata": {
        "trusted": true
      },
      "execution_count": null,
      "outputs": []
    },
    {
      "cell_type": "code",
      "source": "",
      "metadata": {},
      "execution_count": null,
      "outputs": []
    },
    {
      "cell_type": "code",
      "source": "",
      "metadata": {},
      "execution_count": null,
      "outputs": []
    }
  ]
}